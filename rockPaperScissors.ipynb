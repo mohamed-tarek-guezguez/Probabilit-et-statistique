{
 "cells": [
  {
   "cell_type": "markdown",
   "metadata": {},
   "source": [
    "# Rock Paper Scissors By GuezGuez Mohamed Tarek 2LM2"
   ]
  },
  {
   "cell_type": "code",
   "execution_count": null,
   "metadata": {},
   "outputs": [],
   "source": [
    "from os import system\n",
    "import random"
   ]
  },
  {
   "cell_type": "code",
   "execution_count": null,
   "metadata": {},
   "outputs": [],
   "source": [
    "# Global Variables\n",
    "null = 0\n",
    "compWins = 0\n",
    "playerWins = 0"
   ]
  },
  {
   "cell_type": "code",
   "execution_count": null,
   "metadata": {},
   "outputs": [],
   "source": [
    "# Display Function\n",
    "def choise():\n",
    "    print('Choose One :\\n\\n\\t1) Rock\\n\\t2) Paper\\n\\t3) Scissors\\n')"
   ]
  },
  {
   "cell_type": "code",
   "execution_count": null,
   "metadata": {},
   "outputs": [],
   "source": [
    "# Random Conputer Choise Function\n",
    "def conputerChoise():\n",
    "    return random.randint(1, 3)"
   ]
  },
  {
   "cell_type": "code",
   "execution_count": null,
   "metadata": {},
   "outputs": [],
   "source": [
    "# Verification Player Choise Function\n",
    "def verifPlayerChoise(x):\n",
    "    if x == '1' or x == '2' or x == '3' or x == 'R' or x == 'P' or x == 'S' or x == 'ROCK' or x == 'PAPER' or x == 'SCISSORS': \n",
    "        return True\n",
    "    else:\n",
    "        return False"
   ]
  },
  {
   "cell_type": "code",
   "execution_count": null,
   "metadata": {},
   "outputs": [],
   "source": [
    "# int Player Choise Function\n",
    "def intInput(x):\n",
    "    if x == '1' or x == 'R' or x == 'ROCK':\n",
    "        return 1\n",
    "    elif x == '2' or x == 'P' or x == 'PAPER':\n",
    "        return 2\n",
    "    else:\n",
    "        return 3"
   ]
  },
  {
   "cell_type": "code",
   "execution_count": null,
   "metadata": {},
   "outputs": [],
   "source": [
    "# Player Choise Function\n",
    "def PlayerChoise():\n",
    "    x = input('Your Choose : ')\n",
    "    while(not(verifPlayerChoise(x.upper()))):\n",
    "        x = input('Your Choose : ')\n",
    "    return intInput(x.upper())"
   ]
  },
  {
   "cell_type": "code",
   "execution_count": null,
   "metadata": {},
   "outputs": [],
   "source": [
    "# Computer Or Player Win\n",
    "def win(c, p):\n",
    "    if c == p:\n",
    "        return 'null'\n",
    "    elif (c == 1 and p == 3) or (c == 2 and p == 3) or (c ==3 and p == 2):\n",
    "        return 'c'\n",
    "    else:\n",
    "        return 'p'"
   ]
  },
  {
   "cell_type": "code",
   "execution_count": null,
   "metadata": {},
   "outputs": [],
   "source": [
    "# Str Player & Computer Choise Function\n",
    "def strInput(x):\n",
    "    if x == 1:\n",
    "        return 'ROCK'\n",
    "    if x == 2:\n",
    "        return 'PAPER'\n",
    "    if x == 3:\n",
    "        return 'SCISSORS'"
   ]
  },
  {
   "cell_type": "code",
   "execution_count": null,
   "metadata": {},
   "outputs": [],
   "source": [
    "# verif test function\n",
    "def varifTest(t):\n",
    "    if t == '':\n",
    "        return True\n",
    "    else:\n",
    "        return False"
   ]
  },
  {
   "cell_type": "code",
   "execution_count": null,
   "metadata": {},
   "outputs": [],
   "source": [
    "# Start Player Function\n",
    "def play():\n",
    "    test = True\n",
    "    while test:\n",
    "        system('cls')\n",
    "        choise()\n",
    "        compChoice = conputerChoise()\n",
    "        playerChoice = PlayerChoise()\n",
    "\n",
    "        print('Your Choise : ' + strInput(playerChoice) + ' | Computer Choise : ' + strInput(compChoice))\n",
    "        w = win(compChoice, playerChoice)\n",
    "        if w == 'null':\n",
    "            print('*** Null ***')\n",
    "            global null\n",
    "            null += 1\n",
    "        if w == 'c':\n",
    "            print('*** Computer Win ***')\n",
    "            global compWins\n",
    "            compWins += 1\n",
    "        if w == 'p':\n",
    "            print('*** Player Win ***')\n",
    "            global playerWins\n",
    "            playerWins += 1\n",
    "\n",
    "        test = varifTest(str(input('\\nPress enter to continue... ')))\n",
    "    print('\\nComputer :', compWins, ' Player :', playerWins, ' Null :', null)"
   ]
  },
  {
   "cell_type": "code",
   "execution_count": null,
   "metadata": {},
   "outputs": [],
   "source": [
    "play()"
   ]
  }
 ],
 "metadata": {
  "kernelspec": {
   "display_name": "Python 3",
   "language": "python",
   "name": "python3"
  },
  "language_info": {
   "codemirror_mode": {
    "name": "ipython",
    "version": 3
   },
   "file_extension": ".py",
   "mimetype": "text/x-python",
   "name": "python",
   "nbconvert_exporter": "python",
   "pygments_lexer": "ipython3",
   "version": "3.6.10"
  }
 },
 "nbformat": 4,
 "nbformat_minor": 2
}
